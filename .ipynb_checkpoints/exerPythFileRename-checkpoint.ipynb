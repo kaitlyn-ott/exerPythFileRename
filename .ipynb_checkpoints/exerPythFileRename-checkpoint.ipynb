{
 "cells": [
  {
   "cell_type": "code",
   "execution_count": 15,
   "metadata": {},
   "outputs": [],
   "source": [
    "import os\n"
   ]
  },
  {
   "cell_type": "code",
   "execution_count": 16,
   "metadata": {},
   "outputs": [],
   "source": [
    "os.chdir('/Users/Ottj/Desktop/myProject/exerPythFileRename/planets')"
   ]
  },
  {
   "cell_type": "code",
   "execution_count": 17,
   "metadata": {},
   "outputs": [
    {
     "name": "stdout",
     "output_type": "stream",
     "text": [
      "/Users/Ottj/Desktop/myProject/exerPythFileRename/planets\n"
     ]
    }
   ],
   "source": [
    "print(os.getcwd())"
   ]
  },
  {
   "cell_type": "code",
   "execution_count": 18,
   "metadata": {},
   "outputs": [
    {
     "name": "stdout",
     "output_type": "stream",
     "text": [
      "Jupiter- Our solar system- #6.txt\n",
      "Neptune- Our solar system- #8.txt\n",
      "Mercury- Our solar system- #2.txt\n",
      "Mars- Our solar system- #5.txt\n",
      "Earth- Our solar system-#4.txt\n",
      "Pluto- Our solar system- #10.txt\n",
      "Saturn- Our solar system- #7.txt\n",
      "The Sun - Our solar system- #1.txt\n",
      "Venus- Our solar system- #3.txt\n",
      "Uranus- Our solar system- #9.txt\n"
     ]
    }
   ],
   "source": [
    "for f in os.listdir():\n",
    "    print(f)"
   ]
  },
  {
   "cell_type": "code",
   "execution_count": 19,
   "metadata": {},
   "outputs": [
    {
     "name": "stdout",
     "output_type": "stream",
     "text": [
      "('Jupiter- Our solar system- #6', '.txt')\n",
      "('Neptune- Our solar system- #8', '.txt')\n",
      "('Mercury- Our solar system- #2', '.txt')\n",
      "('Mars- Our solar system- #5', '.txt')\n",
      "('Earth- Our solar system-#4', '.txt')\n",
      "('Pluto- Our solar system- #10', '.txt')\n",
      "('Saturn- Our solar system- #7', '.txt')\n",
      "('The Sun - Our solar system- #1', '.txt')\n",
      "('Venus- Our solar system- #3', '.txt')\n",
      "('Uranus- Our solar system- #9', '.txt')\n"
     ]
    }
   ],
   "source": [
    "for f in os.listdir():\n",
    "    print(os.path.splitext(f))"
   ]
  },
  {
   "cell_type": "code",
   "execution_count": 20,
   "metadata": {},
   "outputs": [
    {
     "name": "stdout",
     "output_type": "stream",
     "text": [
      "Jupiter- Our solar system- #6\n",
      "Neptune- Our solar system- #8\n",
      "Mercury- Our solar system- #2\n",
      "Mars- Our solar system- #5\n",
      "Earth- Our solar system-#4\n",
      "Pluto- Our solar system- #10\n",
      "Saturn- Our solar system- #7\n",
      "The Sun - Our solar system- #1\n",
      "Venus- Our solar system- #3\n",
      "Uranus- Our solar system- #9\n"
     ]
    }
   ],
   "source": [
    "for f in os.listdir():\n",
    "    file_name, file_ext = os.path.splitext(f)\n",
    "    print(file_name)"
   ]
  },
  {
   "cell_type": "code",
   "execution_count": 21,
   "metadata": {},
   "outputs": [
    {
     "name": "stdout",
     "output_type": "stream",
     "text": [
      "['Jupiter', ' Our solar system', ' #6']\n",
      "['Neptune', ' Our solar system', ' #8']\n",
      "['Mercury', ' Our solar system', ' #2']\n",
      "['Mars', ' Our solar system', ' #5']\n",
      "['Earth', ' Our solar system', '#4']\n",
      "['Pluto', ' Our solar system', ' #10']\n",
      "['Saturn', ' Our solar system', ' #7']\n",
      "['The Sun ', ' Our solar system', ' #1']\n",
      "['Venus', ' Our solar system', ' #3']\n",
      "['Uranus', ' Our solar system', ' #9']\n"
     ]
    }
   ],
   "source": [
    "for f in os.listdir():\n",
    "    file_name, file_ext = os.path.splitext(f)\n",
    "    print(file_name.split('-'))"
   ]
  },
  {
   "cell_type": "code",
   "execution_count": 22,
   "metadata": {},
   "outputs": [
    {
     "name": "stdout",
     "output_type": "stream",
     "text": [
      " #6\n",
      "Jupiter\n",
      " Our solar system\n",
      " #8\n",
      "Neptune\n",
      " Our solar system\n",
      " #2\n",
      "Mercury\n",
      " Our solar system\n",
      " #5\n",
      "Mars\n",
      " Our solar system\n",
      "#4\n",
      "Earth\n",
      " Our solar system\n",
      " #10\n",
      "Pluto\n",
      " Our solar system\n",
      " #7\n",
      "Saturn\n",
      " Our solar system\n",
      " #1\n",
      "The Sun \n",
      " Our solar system\n",
      " #3\n",
      "Venus\n",
      " Our solar system\n",
      " #9\n",
      "Uranus\n",
      " Our solar system\n"
     ]
    }
   ],
   "source": [
    "for f in os.listdir():\n",
    "    f_name, f_ext = os.path.splitext(f)\n",
    "    \n",
    "    f_title, f_course, f_num = f_name.split('-')\n",
    "    \n",
    "    print(f_num)\n",
    "    print(f_title)\n",
    "    print(f_course)"
   ]
  },
  {
   "cell_type": "code",
   "execution_count": 23,
   "metadata": {},
   "outputs": [
    {
     "name": "stdout",
     "output_type": "stream",
     "text": [
      " #6- Our solar system-Jupiter.txt\n",
      " #8- Our solar system-Neptune.txt\n",
      " #2- Our solar system-Mercury.txt\n",
      " #5- Our solar system-Mars.txt\n",
      "#4- Our solar system-Earth.txt\n",
      " #10- Our solar system-Pluto.txt\n",
      " #7- Our solar system-Saturn.txt\n",
      " #1- Our solar system-The Sun .txt\n",
      " #3- Our solar system-Venus.txt\n",
      " #9- Our solar system-Uranus.txt\n"
     ]
    }
   ],
   "source": [
    "for f in os.listdir():\n",
    "    f_name, f_ext = os.path.splitext(f)\n",
    "    \n",
    "    f_title, f_course, f_num = f_name.split('-')\n",
    "    \n",
    "    print('{}-{}-{}{}'.format(f_num, f_course, f_title, f_ext))"
   ]
  },
  {
   "cell_type": "code",
   "execution_count": 24,
   "metadata": {},
   "outputs": [
    {
     "name": "stdout",
     "output_type": "stream",
     "text": [
      "06-Our solar system-Jupiter.txt\n",
      "08-Our solar system-Neptune.txt\n",
      "02-Our solar system-Mercury.txt\n",
      "05-Our solar system-Mars.txt\n",
      "04-Our solar system-Earth.txt\n",
      "10-Our solar system-Pluto.txt\n",
      "07-Our solar system-Saturn.txt\n",
      "01-Our solar system-The Sun.txt\n",
      "03-Our solar system-Venus.txt\n",
      "09-Our solar system-Uranus.txt\n"
     ]
    }
   ],
   "source": [
    "for f in os.listdir():\n",
    "    f_name, f_ext = os.path.splitext(f)\n",
    "    \n",
    "    f_title, f_course, f_num = f_name.split('-')\n",
    "    \n",
    "    f_title = f_title.strip()\n",
    "    f_course = f_course.strip()\n",
    "    f_num = f_num.strip()[1:].zfill(2)\n",
    "    \n",
    "    print('{}-{}-{}{}'.format(f_num, f_course, f_title, f_ext))"
   ]
  },
  {
   "cell_type": "code",
   "execution_count": 25,
   "metadata": {},
   "outputs": [
    {
     "name": "stdout",
     "output_type": "stream",
     "text": [
      "06-Jupiter.txt\n",
      "08-Neptune.txt\n",
      "02-Mercury.txt\n",
      "05-Mars.txt\n",
      "04-Earth.txt\n",
      "10-Pluto.txt\n",
      "07-Saturn.txt\n",
      "01-The Sun.txt\n",
      "03-Venus.txt\n",
      "09-Uranus.txt\n"
     ]
    }
   ],
   "source": [
    "for f in os.listdir():\n",
    "    f_name, f_ext = os.path.splitext(f)\n",
    "    \n",
    "    f_title, f_course, f_num = f_name.split('-')\n",
    "    \n",
    "    f_title = f_title.strip()\n",
    "    f_course = f_course.strip()\n",
    "    f_num = f_num.strip()[1:].zfill(2)\n",
    "    \n",
    "    print('{}-{}{}'.format(f_num, f_title, f_ext))"
   ]
  },
  {
   "cell_type": "code",
   "execution_count": 26,
   "metadata": {},
   "outputs": [],
   "source": [
    "for f in os.listdir():\n",
    "    f_name, f_ext = os.path.splitext(f)\n",
    "    \n",
    "    f_title, f_course, f_num = f_name.split('-')\n",
    "    \n",
    "    f_title = f_title.strip()\n",
    "    f_course = f_course.strip()\n",
    "    f_num = f_num.strip()[1:].zfill(2)#strip spaces and first character, \n",
    "    #and puts each number as two digits\n",
    "    \n",
    "    new_name ='{}-{}{}'.format(f_num, f_title, f_ext)\n",
    "    \n",
    "    os.rename(f,new_name)"
   ]
  },
  {
   "cell_type": "code",
   "execution_count": 27,
   "metadata": {},
   "outputs": [
    {
     "name": "stdout",
     "output_type": "stream",
     "text": [
      "06-Jupiter.txt\n",
      "10-Pluto.txt\n",
      "02-Mercury.txt\n",
      "08-Neptune.txt\n",
      "03-Venus.txt\n",
      "04-Earth.txt\n",
      "07-Saturn.txt\n",
      "09-Uranus.txt\n",
      "05-Mars.txt\n",
      "01-The Sun.txt\n"
     ]
    }
   ],
   "source": [
    "for f in os.listdir():\n",
    "    print(f) "
   ]
  }
 ],
 "metadata": {
  "kernelspec": {
   "display_name": "Python 3",
   "language": "python",
   "name": "python3"
  },
  "language_info": {
   "codemirror_mode": {
    "name": "ipython",
    "version": 3
   },
   "file_extension": ".py",
   "mimetype": "text/x-python",
   "name": "python",
   "nbconvert_exporter": "python",
   "pygments_lexer": "ipython3",
   "version": "3.8.5"
  }
 },
 "nbformat": 4,
 "nbformat_minor": 4
}
