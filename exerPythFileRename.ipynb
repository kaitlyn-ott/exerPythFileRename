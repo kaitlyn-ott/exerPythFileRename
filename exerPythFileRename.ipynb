{
 "cells": [
  {
   "cell_type": "code",
   "execution_count": 1,
   "metadata": {},
   "outputs": [],
   "source": [
    "import os\n"
   ]
  },
  {
   "cell_type": "code",
   "execution_count": 13,
   "metadata": {},
   "outputs": [],
   "source": [
    "os.chdir('/Users/Ottj/Desktop/planets')"
   ]
  },
  {
   "cell_type": "code",
   "execution_count": 14,
   "metadata": {},
   "outputs": [
    {
     "name": "stdout",
     "output_type": "stream",
     "text": [
      "/Users/Ottj/Desktop/planets\n"
     ]
    }
   ],
   "source": [
    "print(os.getcwd())"
   ]
  },
  {
   "cell_type": "code",
   "execution_count": 15,
   "metadata": {},
   "outputs": [
    {
     "name": "stdout",
     "output_type": "stream",
     "text": [
      "Pluto-Our solar system-#10.txt\n",
      "Saturn-Our solar system-#7.txt\n",
      "Mars-Our solar system-#5.txt\n",
      "Neptune-Our solar system-#8.txt\n",
      "Earth-Our solar system-#4.txt\n",
      "Jupiter-Our solar system-#6.txt\n",
      "Venus-Our solar system-#3.txt\n",
      "The Sun-Our solar system-#1.txt\n",
      "Mercury-Our solar system-#2.txt\n",
      "Uranus-Our solar system-#9.txt\n"
     ]
    }
   ],
   "source": [
    "for f in os.listdir():\n",
    "    print(f)"
   ]
  },
  {
   "cell_type": "code",
   "execution_count": 16,
   "metadata": {},
   "outputs": [
    {
     "name": "stdout",
     "output_type": "stream",
     "text": [
      "('Pluto-Our solar system-#10', '.txt')\n",
      "('Saturn-Our solar system-#7', '.txt')\n",
      "('Mars-Our solar system-#5', '.txt')\n",
      "('Neptune-Our solar system-#8', '.txt')\n",
      "('Earth-Our solar system-#4', '.txt')\n",
      "('Jupiter-Our solar system-#6', '.txt')\n",
      "('Venus-Our solar system-#3', '.txt')\n",
      "('The Sun-Our solar system-#1', '.txt')\n",
      "('Mercury-Our solar system-#2', '.txt')\n",
      "('Uranus-Our solar system-#9', '.txt')\n"
     ]
    }
   ],
   "source": [
    "for f in os.listdir():\n",
    "    print(os.path.splitext(f))"
   ]
  },
  {
   "cell_type": "code",
   "execution_count": 22,
   "metadata": {},
   "outputs": [],
   "source": [
    "for f in os.listdir():\n",
    "    f_name, f_ext = os.path.splitext(f)\n",
    "    \n",
    "    f_title, f_course, f_num = f_name.split('-')\n",
    "    \n",
    "    f_title = f_title.strip()\n",
    "    f_course = f_course.strip()\n",
    "    f_num = f_num.strip()[1:].zfill(2)#strip spaces and first character, \n",
    "    #and puts each number as two digits\n",
    "    \n",
    "    new_name ='{}-{}{}'.format(f_num, f_title, f_ext)\n",
    "    \n",
    "    os.rename(f,new_name) \n",
    "\n",
    "    "
   ]
  }
 ],
 "metadata": {
  "kernelspec": {
   "display_name": "Python 3",
   "language": "python",
   "name": "python3"
  },
  "language_info": {
   "codemirror_mode": {
    "name": "ipython",
    "version": 3
   },
   "file_extension": ".py",
   "mimetype": "text/x-python",
   "name": "python",
   "nbconvert_exporter": "python",
   "pygments_lexer": "ipython3",
   "version": "3.8.5"
  }
 },
 "nbformat": 4,
 "nbformat_minor": 4
}
